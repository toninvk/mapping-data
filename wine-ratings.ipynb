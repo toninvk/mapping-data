{
 "cells": [
  {
   "cell_type": "code",
   "execution_count": 1,
   "metadata": {},
   "outputs": [
    {
     "name": "stdout",
     "output_type": "stream",
     "text": [
      "                                       name  grape            region  \\\n",
      "0  Laurenz V Charming Gruner Veltliner 2013    NaN  Kamptal, Austria   \n",
      "1  Laurenz V Charming Gruner Veltliner 2014    NaN  Kamptal, Austria   \n",
      "2   Laurenz V Singing Gruner Veltliner 2007    NaN           Austria   \n",
      "3   Laurenz V Singing Gruner Veltliner 2010    NaN           Austria   \n",
      "4   Laurenz V Singing Gruner Veltliner 2011    NaN           Austria   \n",
      "\n",
      "      variety  rating                                              notes  \n",
      "0  White Wine    90.0  Aromas of ripe apples and a typical Veltliner ...  \n",
      "1  White Wine    90.0  Aromas of ripe apples and a typical Veltliner ...  \n",
      "2  White Wine    90.0  A very attractive fruit bouquet yields apple, ...  \n",
      "3  White Wine    88.0  A very attractive fruit bouquet yields apple, ...  \n",
      "4  White Wine    88.0  A very attractive fruit bouquet yields apple, ...  \n"
     ]
    }
   ],
   "source": [
    "#Build a notebook that reformats data into JSON\n",
    "#Import packages\n",
    "import json\n",
    "import pandas as pd\n",
    "\n",
    "#Load csv file in the notebook from your forked repository\n",
    "data = pd.read_csv(\"sample_data/wine-ratings-small.csv\", index_col=0)\n",
    "#Check data\n",
    "print(data.head())\n",
    "\n",
    "#Use a distinct field to retrieve data, like:\n",
    "#Type of wine (red or white) (variety column)\n",
    "#Wine score range or baseline (e.g. between 90 and 92 points) (rating column)\n",
    "#Region (region column)\n",
    "\n",
    "#Create dictionary\n",
    "nes_dict = {}\n",
    "\n",
    "#Capture every row that matches your condition\n",
    "def capture_row(data):\n",
    "    '''This functions caputures variety, rating and region values in each row'''\n",
    "    for row in range(len(data)):\n",
    "        wine_list = []\n",
    "        wine_list = [data.variety[row], data.rating[row], data.region[row]]\n",
    "        nes_dict[row] = wine_list\n",
    "    return nes_dict\n",
    "\n",
    "wine_ratings = capture_row(data)\n",
    "\n",
    "#Save to a formatted new JSON file\n",
    "with open(\"sample_data/wine-ratings-small.json\", 'w') as f:\n",
    "    #Dump data to new file\n",
    "    json.dump(wine_ratings,f)\n"
   ]
  }
 ],
 "metadata": {
  "kernelspec": {
   "display_name": ".venv",
   "language": "python",
   "name": "python3"
  },
  "language_info": {
   "codemirror_mode": {
    "name": "ipython",
    "version": 3
   },
   "file_extension": ".py",
   "mimetype": "text/x-python",
   "name": "python",
   "nbconvert_exporter": "python",
   "pygments_lexer": "ipython3",
   "version": "3.8.5"
  },
  "orig_nbformat": 4,
  "vscode": {
   "interpreter": {
    "hash": "01005243e1413e5f39e8b11bf35e88a57ecb7cd085c3ba681b28290dfa7a7668"
   }
  }
 },
 "nbformat": 4,
 "nbformat_minor": 2
}
